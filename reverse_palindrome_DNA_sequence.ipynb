{
 "cells": [
  {
   "cell_type": "markdown",
   "source": [
    "## Problem\n",
    "A DNA string is a reverse palindrome if it is equal to its reverse complement. For instance, GCATGC is a reverse palindrome because its reverse complement is GCATGC.\n",
    "\n",
    "Given: A DNA string\n",
    "Return: The position and length of every reverse palindrome in the string having length between 4 and 12. You may return these pairs in any order."
   ],
   "metadata": {
    "collapsed": false
   }
  },
  {
   "cell_type": "code",
   "execution_count": 1,
   "outputs": [],
   "source": [
    "def reverse_complement(dna_subseq):\n",
    "    complement_dict = {'A': 'T', 'T': 'A', 'C': 'G', 'G': 'C'}\n",
    "    return ''.join([complement_dict[base] for base in reversed(dna_subseq)])"
   ],
   "metadata": {
    "collapsed": false,
    "ExecuteTime": {
     "end_time": "2023-05-26T11:07:33.885908100Z",
     "start_time": "2023-05-26T11:07:33.858906200Z"
    }
   }
  },
  {
   "cell_type": "markdown",
   "source": [
    "#### Example\n",
    "```\n",
    "dna = 'TCAAT'\n",
    "complement='AGTTA'\n",
    "reverse='TAACT'\n",
    "reverse_complement = 'ATTGA'\n",
    "```"
   ],
   "metadata": {
    "collapsed": false
   }
  },
  {
   "cell_type": "code",
   "execution_count": 3,
   "outputs": [],
   "source": [
    "def find_reverse_palindromes(dna_string):\n",
    "    palindrome_list = []\n",
    "\n",
    "    # Minimum and maksimum palindrome lengths\n",
    "    min_length = 4\n",
    "    max_length = 12\n",
    "\n",
    "    # Check all possible subsequences along the DNA sequence\n",
    "    for i in range(len(dna_string)):\n",
    "        for j in range(i + min_length, min(i + max_length + 1, len(dna_string) + 1)):\n",
    "          subseq = dna_string[i:j]\n",
    "\n",
    "          # If reverse complement add to palindrome list\n",
    "          if subseq == reverse_complement(subseq):\n",
    "              palindrome_list.append((i+1, len(subseq)))\n",
    "    return palindrome_list"
   ],
   "metadata": {
    "collapsed": false,
    "ExecuteTime": {
     "end_time": "2023-05-26T11:13:47.874480800Z",
     "start_time": "2023-05-26T11:13:47.678487400Z"
    }
   }
  },
  {
   "cell_type": "code",
   "execution_count": 4,
   "outputs": [
    {
     "name": "stdout",
     "output_type": "stream",
     "text": [
      "4 6\n",
      "5 4\n",
      "6 6\n",
      "7 4\n",
      "17 4\n",
      "18 4\n",
      "20 6\n",
      "21 4\n"
     ]
    }
   ],
   "source": [
    "dna_string = \"TCAATGCATGCGGGTCTATATGCAT\"\n",
    "palindromes = find_reverse_palindromes(dna_string)\n",
    "\n",
    "# Tüm palindrome listesini sırasıyla yazdır\n",
    "for p in palindromes:\n",
    "    print(\"{} {}\".format(p[0], p[1]))"
   ],
   "metadata": {
    "collapsed": false,
    "ExecuteTime": {
     "end_time": "2023-05-26T11:13:51.073480600Z",
     "start_time": "2023-05-26T11:13:50.629482400Z"
    }
   }
  },
  {
   "cell_type": "code",
   "execution_count": 6,
   "outputs": [],
   "source": [
    "dna_string_2 = \"\"\"GCGCATGCGGTAGAGGGTTGGCCACAAAGAGCTCCCAATATGGTAATTTCCGCCTCAGCT\n",
    "AGGTGCCCAAATCATAACCTGTGTCTGCGGGATTCCCTATACTTGTAAGTTGGCGGAAAC\n",
    "CGTATGTTGTGGTGTCCTGCTCGTACCAAATATAATATAGTTAGCTGTGCTGTAGTAGCG\n",
    "AGGGTTTAGTAATGCCCAGTAGAGCGACGAGCTATTTGCAAAAGTGCCCTGCGGGTGCCA\n",
    "TACCACTTCAATGGGGATAATAACTTTGGCCCGGAAACAAGGCTCTTAGGAACAGCTCCT\n",
    "CCAACCCGACCCTTCGAGAACGAGAGATTGAAATCCGCGCTGTAGGAGATATACTTTCGT\n",
    "GGAATTACCAGCAACGGGACCGCTGGAACGAACGGGGGTTATCTAACGGTTTCTGATGAT\n",
    "CTGGTTACTCACGTACTTCCTCCTGAGAGCACACATATATGTGACTCTGCACCGTCGCTA\n",
    "ACTTCTTGTCTTCTATAACGTCTAATACTTTATTGTTGTCGATAAGCCAATGAGCAGGCA\n",
    "CCTCTAAGCGTTCAATTCACTGGCCCTTAGGTCTCGTACTAACTTATGCTACCTGGTTGT\n",
    "GTCTCCGAACAAGGTTAGGACCGTCGTAAACTACCCACTGTTACTCGTAGTCGGATGGGT\n",
    "TCTCAAGGCGGGGCCAGGAAAACACGAAGTATAGGACACTGATGGCGTCTCCTGTTCACT\n",
    "TATCGGTTAACGCGAGTGAAGAGCCTCACGACGTTATATCGTTTACCGTACTAAGCGTGT\n",
    "CCGGCAAGCACAAACGCCAGAATTAGAATCAACTTTTGGCTCAAGATAGGCTAGTATAAC\n",
    "GCCAGCTCACCCCTTTGCGTTTGTGCTGTAACAACGTTTTTCTCGATGACTCCCCGTGCA\n",
    "TGTACGATCCATAT\"\"\"\n",
    "dna_string_2 = str(dna_string.replace('\\n',\"\")).strip()"
   ],
   "metadata": {
    "collapsed": false,
    "ExecuteTime": {
     "end_time": "2023-05-26T11:14:54.839481800Z",
     "start_time": "2023-05-26T11:14:54.503483700Z"
    }
   }
  },
  {
   "cell_type": "code",
   "execution_count": 7,
   "outputs": [
    {
     "data": {
      "text/plain": "71"
     },
     "execution_count": 7,
     "metadata": {},
     "output_type": "execute_result"
    }
   ],
   "source": [
    "palindromes = find_reverse_palindromes(dna_string_2)\n",
    "len(palindromes)"
   ],
   "metadata": {
    "collapsed": false,
    "ExecuteTime": {
     "end_time": "2023-05-26T11:15:26.735484700Z",
     "start_time": "2023-05-26T11:15:26.497483400Z"
    }
   }
  }
 ],
 "metadata": {
  "kernelspec": {
   "display_name": "Python 3",
   "language": "python",
   "name": "python3"
  },
  "language_info": {
   "codemirror_mode": {
    "name": "ipython",
    "version": 2
   },
   "file_extension": ".py",
   "mimetype": "text/x-python",
   "name": "python",
   "nbconvert_exporter": "python",
   "pygments_lexer": "ipython2",
   "version": "2.7.6"
  }
 },
 "nbformat": 4,
 "nbformat_minor": 0
}
