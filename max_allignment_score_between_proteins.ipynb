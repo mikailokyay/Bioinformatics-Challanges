{
 "cells": [
  {
   "cell_type": "markdown",
   "source": [
    "## Problem Rosalind.info\n",
    "\n",
    "http://rosalind.info/problems/glob/\n",
    "\n",
    "To penalize symbol substitutions differently depending on which two symbols are involved in the substitution, we obtain a scoring matrix S in which Si,j represents the (negative) score assigned to a substitution of the i th symbol of our alphabet A with the j th symbol of A.\n",
    "\n",
    "A gap penalty is the component deducted from alignment score due to the presence of a gap. A gap penalty may be a function of the length of the gap; for example, a linear gap penalty is a constant g such that each inserted or deleted symbol is charged g; as a result, the cost of a gap of length L is equal to gL\n",
    ".\n",
    "Given: Two protein strings s and t.\n",
    "Return: The maximum alignment score between s and t. Use:The BLOSUM62 scoring matrix.\n",
    "Linear gap penalty equal to 5 (i.e., a cost of -5 is assessed for each gap symbol)."
   ],
   "metadata": {
    "collapsed": false
   }
  },
  {
   "cell_type": "code",
   "execution_count": 2,
   "outputs": [],
   "source": [
    "with open(\"data/BLOSUM62.txt\", \"r\", encoding=\"utf8\") as f:\n",
    "  lines = f.readlines()"
   ],
   "metadata": {
    "collapsed": false,
    "ExecuteTime": {
     "end_time": "2023-05-27T13:03:35.887300Z",
     "start_time": "2023-05-27T13:03:35.856301200Z"
    }
   }
  },
  {
   "cell_type": "code",
   "execution_count": 3,
   "outputs": [],
   "source": [
    "blosum62 = {}\n",
    "for item in lines:\n",
    "  list_item = str(item.replace('\\n',\"\")).strip().split()\n",
    "  blosum62[(list_item[0], list_item[1])] = int(list_item[2])"
   ],
   "metadata": {
    "collapsed": false,
    "ExecuteTime": {
     "end_time": "2023-05-27T13:03:50.545915900Z",
     "start_time": "2023-05-27T13:03:50.523924300Z"
    }
   }
  },
  {
   "cell_type": "code",
   "execution_count": 4,
   "outputs": [],
   "source": [
    "def print_matrix(matrix, seq1, seq2):\n",
    "  # Print matrix\n",
    "  header = \"   |   | \" + \" | \".join(seq2) + \" |\"\n",
    "  separator = \"-\" * len(header)\n",
    "  print(header)\n",
    "  print(separator)\n",
    "  for i in range(len(seq1)+1):\n",
    "      if i == 0:\n",
    "          row = \" | \"\n",
    "      else:\n",
    "          row = seq1[i-1] + \" | \"\n",
    "      row += \" | \".join(str(x).rjust(2) for x in matrix[i])\n",
    "      row += \" |\"\n",
    "      print(row)\n",
    "  print(separator)"
   ],
   "metadata": {
    "collapsed": false,
    "ExecuteTime": {
     "end_time": "2023-05-27T13:04:10.816759400Z",
     "start_time": "2023-05-27T13:04:10.784762300Z"
    }
   }
  },
  {
   "cell_type": "code",
   "execution_count": 5,
   "outputs": [],
   "source": [
    "def get_matrix(seq1, seq2, gap_penalty):\n",
    "\n",
    "  n = len(seq1)\n",
    "  m = len(seq2)\n",
    "  matrix = [[0 for i in range(m+1)] for j in range(n+1)]\n",
    "\n",
    "  # Fill matrix\n",
    "  for i in range(1, n+1):\n",
    "      matrix[i][0] = matrix[i-1][0] - gap_penalty\n",
    "\n",
    "  for j in range(1, m+1):\n",
    "      matrix[0][j] = matrix[0][j-1] - gap_penalty\n",
    "\n",
    "\n",
    "  # Fill in rest of matrix using dynamic programming algorithm\n",
    "  for i in range(1, n+1):\n",
    "      for j in range(1, m+1):\n",
    "          match_ = matrix[i-1][j-1] + blosum62.get((seq1[i-1], seq2[j-1]))\n",
    "          delete = matrix[i-1][j] - gap_penalty\n",
    "          insert = matrix[i][j-1] - gap_penalty\n",
    "          matrix[i][j] = max(match_, delete, insert)\n",
    "\n",
    "  return matrix"
   ],
   "metadata": {
    "collapsed": false,
    "ExecuteTime": {
     "end_time": "2023-05-27T13:04:21.629154Z",
     "start_time": "2023-05-27T13:04:21.594158800Z"
    }
   }
  },
  {
   "cell_type": "code",
   "execution_count": 6,
   "outputs": [],
   "source": [
    "def maximum_alignment_score(seq1, seq2, gap_penalty):\n",
    "    n = len(seq1)\n",
    "    m = len(seq2)\n",
    "\n",
    "    # Initialize matrix\n",
    "    matrix = get_matrix(seq1, seq2, gap_penalty)\n",
    "\n",
    "\n",
    "    # Print matrix\n",
    "    if n<16:\n",
    "      print_matrix(matrix, seq1, seq2)\n",
    "\n",
    "    # Return the alignment score\n",
    "    return matrix[n][m]\n"
   ],
   "metadata": {
    "collapsed": false,
    "ExecuteTime": {
     "end_time": "2023-05-27T13:04:31.216517800Z",
     "start_time": "2023-05-27T13:04:31.199517100Z"
    }
   }
  },
  {
   "cell_type": "code",
   "execution_count": 7,
   "outputs": [],
   "source": [
    "def optimal_alignment_score(seq1, seq2, gap_penalty):\n",
    "\n",
    "\n",
    "    n = len(seq1)\n",
    "    m = len(seq2)\n",
    "\n",
    "    # Initialize matrix\n",
    "    matrix = get_matrix(seq1, seq2, gap_penalty)\n",
    "\n",
    "\n",
    "    # Print matrix\n",
    "    if n<16:\n",
    "      print_matrix(matrix, seq1, seq2)\n",
    "\n",
    "\n",
    "    # Trace back through matrix to find optimal alignment and score\n",
    "    aligned_seq1 = \"\"\n",
    "    aligned_seq2 = \"\"\n",
    "    i = n\n",
    "    j = m\n",
    "    score = matrix[n][m]\n",
    "    while i > 0 or j > 0:\n",
    "      if i > 0 and j > 0 and matrix[i][j] == matrix[i-1][j-1] + blosum62.get((seq1[i-1], seq2[j-1])):\n",
    "        aligned_seq1 = seq1[i-1] + aligned_seq1\n",
    "        aligned_seq2 = seq2[j-1] + aligned_seq2\n",
    "        i -= 1\n",
    "        j -= 1\n",
    "      elif i > 0 and matrix[i][j] == matrix[i-1][j] - gap_penalty:\n",
    "        aligned_seq1 = seq1[i-1] + aligned_seq1\n",
    "        aligned_seq2 = \"-\" + aligned_seq2\n",
    "        i -= 1\n",
    "      else:\n",
    "        aligned_seq1 = \"-\" + aligned_seq1\n",
    "        aligned_seq2 = seq2[j-1] + aligned_seq2\n",
    "        j -= 1\n",
    "\n",
    "    return score, aligned_seq1, aligned_seq2"
   ],
   "metadata": {
    "collapsed": false,
    "ExecuteTime": {
     "end_time": "2023-05-27T13:04:41.943897300Z",
     "start_time": "2023-05-27T13:04:41.917897300Z"
    }
   }
  },
  {
   "cell_type": "code",
   "execution_count": 8,
   "outputs": [],
   "source": [
    "# Read input sequences\n",
    "protein1= \"\"\"CLRHMKMTGYYIAEVDKIPFYNNLAGVAWTIGGRKFWQRQYLTKGSFAKETYGYFGIFGK\n",
    "STPFLLWYKWPMGGILPHPYNPRRHAFKDGIYMFHNAPDFIHGTKPKVFFRQVSRDMARQ\n",
    "IMLSHEDLHMWLMIMQNYVVCITFAEKDWEFSGTCWMKTMFWYLHFHCIRWKNDYTIGWN\n",
    "QLLRFFDPEINMCVDMLCYSCIQLIPANFYAASMTGKISKGAQFTSCGEDCYCDKFIHMK\n",
    "IFWGYDPQGDLGMYGVNANEKHGLYLCMPLALVYCQHQRFIGMVSGPMDAPCKYLADKDL\n",
    "QKYIYDISVKEMSVYLLCLGHIKDSGILYGNRLLKKERVAGTMCTMQFDIFDMSYADCHN\n",
    "NDKTRNRGLSTLKRSWKQYVYIEFGTVPRWVQHATWDLYTNRFFAIMDEFEFLKLRAEKH\n",
    "WFVDRMWPCMLNIMWSMQMCCVIQFRRCIEMMQCYAFGFEIVWATMRFKRNQAAMWHMYR\n",
    "RYIPCMDYWDCNGANAAEFCDERESLFKREMLFARAPSCDIEPPTLAQWMFRAVMMLKIF\n",
    "FWQDIHYACTPDHDEYLWINKSWRMTSDVCFVHWDFWNTGCIYAAPCENKTVPWAKYLYA\n",
    "SASYNWEDSCMCWLQWLYTRFRNFENEDLPETPACAKAMNYNWALTQVVYYCKILKRQNT\n",
    "MLGAEVCKTLYTDADPHGLNDLQMQAHCDKWSFNSIAEDRCCPNHLFAQHYDCCQVSRGI\n",
    "FREYSEHWGFCKHGEKCLRLTQLTTCQPTTAGRGTEKVLTQSWWVCNNFWELCALSACHL\n",
    "MQYPYECYTKRRHWAEAISLCGQYKSMTQYWLRYNLNVQQQLPAWGKWAAIEIVEFNMCP\n",
    "WHHKFCVFPPRWYWNHKKWYVFIERWWHSNNLP\"\"\"\n",
    "\n",
    "protein2 = \"\"\"CLRLMKMTGYYIAEVPFYNNDRWLHCASQAWTIGGRKFWERQDHNEMRCDETGIFGKSTP\n",
    "FLLWMSGLDMFGWCEKPKTIHVFKDGIYMFHNAGTKKFCHWIKQTAAWWEHFRQVSRDMA\n",
    "RQNMHYFFNALTLSWTCCITFAFLEKMWEFSGMCWMKTFWYLHFHCIGTFNINQWLRFFD\n",
    "PETNMHVDMLCWAASSIALIPARFTCCMAASMTGNLQEISGGAEFTSMGAAIKFADCYCD\n",
    "KFWGYDPQGKMGCMSHWLCMYGVNSNEMPLALVYCRVHNHQRKFISHHDYEPFAPCKIQL\n",
    "PDKNHFQSIQLQYCRNRQIKKYIYDISVKEMSGYLAAFRDNMCLGHIKMSEMHVQYMLCI\n",
    "LYLNRLLKKERVEGGMCTMQQEDIFDMSNHHIYKTRMKNKKRSWKQYVYIEFYTVVQRPT\n",
    "RRWVQHATWDLYENRFFAIMLEEFCWFLFLKLRAEKHWFQDRMWWDWRCMLNICVIQLRL\n",
    "CIEMMQCEIVWTELFTTMRFHMYRRYIPYWDGYTNGANADEPESLFKREMLFACAPSCDT\n",
    "EPKYIEIKAQVSESSQFRAVMMGHMNIYAYLKIFSWTFLRRIHYDFKLCTLSINKSWRMT\n",
    "SDVCFWNTGCIYAAPHLEHHFADLVFWYLYAFASYNWEDSCMCWLGWFENIPYWWDLPMN\n",
    "YAFKYYCKILKSQNTMLGGNFSDEVCKTLIQKYYVAADPHGLNDIQLAEDTALCGAHCDK\n",
    "WSFNLIHLFVQHYDCCQVSRGIFRPLQNLLYRLYSEHTGLCKWGEKCLRLTQLTTCQEVH\n",
    "AAIYTTAGRAMMCFEKMLTQSWWVCNNPWELCALSACHLMQDTRKNYECYTKRRHWAQEY\n",
    "KSMWQYNLNVQDQLPAIKMGKDEDVLPEIVPFNMRPWHFENACNKYMKFCVFPPRWYWNC\n",
    "KKKLIERWWHSNNQP\"\"\"\n",
    "\n",
    "protein1 = str(protein1.replace('\\n',\"\")).strip()\n",
    "protein2 = str(protein2.replace('\\n',\"\")).strip()"
   ],
   "metadata": {
    "collapsed": false,
    "ExecuteTime": {
     "end_time": "2023-05-27T13:04:58.867790800Z",
     "start_time": "2023-05-27T13:04:58.826771800Z"
    }
   }
  },
  {
   "cell_type": "code",
   "execution_count": 9,
   "outputs": [
    {
     "name": "stdout",
     "output_type": "stream",
     "text": [
      "   |   | M | E | A | N | L | Y |\n",
      "--------------------------------\n",
      " |  0 | -5 | -10 | -15 | -20 | -25 | -30 |\n",
      "P | -5 | -2 | -6 | -11 | -16 | -21 | -26 |\n",
      "L | -10 | -3 | -5 | -7 | -12 | -12 | -17 |\n",
      "E | -15 | -8 |  2 | -3 | -7 | -12 | -14 |\n",
      "A | -20 | -13 | -3 |  6 |  1 | -4 | -9 |\n",
      "S | -25 | -18 | -8 |  1 |  7 |  2 | -3 |\n",
      "A | -30 | -23 | -13 | -4 |  2 |  6 |  1 |\n",
      "N | -35 | -28 | -18 | -9 |  2 |  1 |  4 |\n",
      "T | -40 | -33 | -23 | -14 | -3 |  1 | -1 |\n",
      "L | -45 | -38 | -28 | -19 | -8 |  1 |  0 |\n",
      "Y | -50 | -43 | -33 | -24 | -13 | -4 |  8 |\n",
      "--------------------------------\n",
      "maximum alignment score 8\n"
     ]
    }
   ],
   "source": [
    "# Compute alignment score\n",
    "score = maximum_alignment_score('PLEASANTLY', \"MEANLY\", gap_penalty=5)\n",
    "print(\"maximum alignment score\", score)"
   ],
   "metadata": {
    "collapsed": false,
    "ExecuteTime": {
     "end_time": "2023-05-27T13:05:16.372651600Z",
     "start_time": "2023-05-27T13:05:16.309655100Z"
    }
   }
  },
  {
   "cell_type": "code",
   "execution_count": 10,
   "outputs": [
    {
     "name": "stdout",
     "output_type": "stream",
     "text": [
      "maximum alignment score 1953\n"
     ]
    }
   ],
   "source": [
    "# Compute alignment score\n",
    "score = maximum_alignment_score(protein1, protein2, gap_penalty=5)\n",
    "print(\"maximum alignment score\", score)"
   ],
   "metadata": {
    "collapsed": false,
    "ExecuteTime": {
     "end_time": "2023-05-27T13:06:08.270882400Z",
     "start_time": "2023-05-27T13:06:07.079881900Z"
    }
   }
  }
 ],
 "metadata": {
  "kernelspec": {
   "display_name": "Python 3",
   "language": "python",
   "name": "python3"
  },
  "language_info": {
   "codemirror_mode": {
    "name": "ipython",
    "version": 2
   },
   "file_extension": ".py",
   "mimetype": "text/x-python",
   "name": "python",
   "nbconvert_exporter": "python",
   "pygments_lexer": "ipython2",
   "version": "2.7.6"
  }
 },
 "nbformat": 4,
 "nbformat_minor": 0
}
