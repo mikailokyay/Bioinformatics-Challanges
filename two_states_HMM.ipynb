{
 "cells": [
  {
   "cell_type": "markdown",
   "source": [
    "![HMM Probs](data/HMM_with_two_states_probs.png)\n",
    "\n",
    "The HMM described in Problem 11.4."
   ],
   "metadata": {
    "collapsed": false
   }
  },
  {
   "cell_type": "markdown",
   "source": [
    "## Problem 11.4\n",
    "Figure shows an HMM with two states α and β. When in the α state, it is more likely to emit purines (A and G). When in the β state, it is more likely to emit pyrimidines (C and T). Decode the most likely sequence of states (α\\β) for sequence GGCT. Use log-scores, rather than straight probability scores."
   ],
   "metadata": {
    "collapsed": false
   }
  },
  {
   "cell_type": "markdown",
   "source": [
    "### Without Log Scores"
   ],
   "metadata": {
    "collapsed": false
   }
  },
  {
   "cell_type": "code",
   "execution_count": 1,
   "outputs": [],
   "source": [
    "states = ('α','β')\n",
    "\n",
    "\n",
    "emission_probability = {\n",
    "\t'α': {'A':0.4, 'G':0.4, 'T':0.1, 'C':0.1},\n",
    "\t'β': {'T':0.3, 'C':0.3, 'A':0.2, 'G':0.2},\n",
    "}\n",
    "\n",
    "'''\n",
    "The sequence of observations. That is, a sequence of one feature vector\n",
    "produced for each input image of a character.\n",
    "'''\n",
    "observations = ('G', 'G', 'C', 'T')\n",
    "\n",
    "\n",
    "start_probability = { 'α': 0.5,'β': 0.5 }\n",
    "\n",
    "\n",
    "transition_probability = {\n",
    "    'α': {'α':0.9, 'β':0.1},\n",
    "\t'β': {'α':0.1, 'β':0.9}\n",
    "\n",
    "}"
   ],
   "metadata": {
    "collapsed": false,
    "ExecuteTime": {
     "end_time": "2023-06-10T09:23:42.769983300Z",
     "start_time": "2023-06-10T09:23:42.754965900Z"
    }
   }
  },
  {
   "cell_type": "code",
   "execution_count": 2,
   "outputs": [
    {
     "name": "stdout",
     "output_type": "stream",
     "text": [
      "Viterbi Table:\n",
      "Step 1: {'α': 0.2, 'β': 0.1}\n",
      "Step 2: {'α': 0.07200000000000001, 'β': 0.018000000000000002}\n",
      "Step 3: {'α': 0.006480000000000001, 'β': 0.004860000000000001}\n",
      "Step 4: {'α': 0.0005832000000000002, 'β': 0.0013122000000000001}\n",
      "\n",
      "Max Score: 0.0013122000000000001\n",
      "Best Path: β -> β -> β -> β\n"
     ]
    }
   ],
   "source": [
    "def viterbi(observations, states, start_probability, transition_probability, emission_probability):\n",
    "  # Initialize the trellis and path\n",
    "  trellis = [{}]\n",
    "  path = {}\n",
    "  max_probability = 0\n",
    "\n",
    "  # Calculate the initial probabilities for each state\n",
    "  for state in states:\n",
    "      initial_prob = start_probability[state] * emission_probability[state][observations[0]]\n",
    "      trellis[0][state] = initial_prob\n",
    "      path[state] = [state]\n",
    "\n",
    "      if initial_prob > max_probability:\n",
    "          max_probability = initial_prob\n",
    "\n",
    "  # Calculate probabilities for each subsequent state transition\n",
    "  for observations_index in range(1, len(observations)):\n",
    "      trellis.append({})\n",
    "      new_path = {}\n",
    "\n",
    "      for state in states:\n",
    "          # Calculate the maximum probability and corresponding state\n",
    "          probabilities = [\n",
    "              trellis[observations_index - 1][prev_state] * transition_probability[prev_state][state] *\n",
    "              emission_probability[state][observations[observations_index]]\n",
    "              for prev_state in states\n",
    "          ]\n",
    "          max_probability = max(probabilities)\n",
    "          max_state_index = probabilities.index(max_probability)\n",
    "          possible_state = states[max_state_index]\n",
    "\n",
    "          # Update the trellis and path\n",
    "          trellis[observations_index][state] = max_probability\n",
    "          new_path[state] = path[possible_state] + [state]\n",
    "\n",
    "      path = new_path\n",
    "\n",
    "  # Find the maximum probability and corresponding state at the end of the observation sequence\n",
    "  final_probabilities = [trellis[len(observations) - 1][state] for state in states]\n",
    "  max_probability = max(final_probabilities)\n",
    "  max_state_index = final_probabilities.index(max_probability)\n",
    "  state = states[max_state_index]\n",
    "\n",
    "  return trellis, max_probability, path[state]\n",
    "\n",
    "trellis, max_score, best_path = viterbi(observations, states, start_probability, transition_probability, emission_probability)\n",
    "\n",
    "# Print Viterbi table\n",
    "print(\"Viterbi Table:\")\n",
    "for t in range(len(observations)):\n",
    "    print(f\"Step {t+1}: {trellis[t]}\")\n",
    "\n",
    "# Print maximum score\n",
    "print(f\"\\nMax Score: {max_score}\")\n",
    "\n",
    "# Print best path\n",
    "print(f\"Best Path: {' -> '.join(best_path)}\")"
   ],
   "metadata": {
    "collapsed": false,
    "ExecuteTime": {
     "end_time": "2023-06-10T09:23:43.635961100Z",
     "start_time": "2023-06-10T09:23:43.589966300Z"
    }
   }
  },
  {
   "cell_type": "markdown",
   "source": [
    "### With Log Scores"
   ],
   "metadata": {
    "collapsed": false
   }
  },
  {
   "cell_type": "code",
   "execution_count": 3,
   "outputs": [
    {
     "name": "stdout",
     "output_type": "stream",
     "text": [
      "Viterbi Table:\n",
      "Step 1: {'α': -2.321928094887362, 'β': -3.321928094887362}\n",
      "Step 2: {'α': -3.7958592832197744, 'β': -5.795859283219775}\n",
      "Step 3: {'α': -7.269790471552186, 'β': -7.68482797083103}\n",
      "Step 4: {'α': -10.743721659884597, 'β': -9.573796658442285}\n",
      "\n",
      "Max Score: -9.573796658442285\n",
      "Best Path: β -> β -> β -> β\n"
     ]
    }
   ],
   "source": [
    "import math\n",
    "\n",
    "states = ('α', 'β')\n",
    "\n",
    "emission_probability = {\n",
    "    'α': {'A': math.log2(0.4), 'G': math.log2(0.4), 'T': math.log2(0.1), 'C': math.log2(0.1)},\n",
    "    'β': {'T': math.log2(0.3), 'C': math.log2(0.3), 'A': math.log2(0.2), 'G': math.log2(0.2)},\n",
    "}\n",
    "\n",
    "observations = ('G', 'G', 'C', 'T')\n",
    "\n",
    "start_probability = {'α': math.log2(0.5), 'β': math.log2(0.5)}\n",
    "\n",
    "transition_probability = {\n",
    "    'α': {'α': math.log2(0.9), 'β': math.log2(0.1)},\n",
    "    'β': {'α': math.log2(0.1), 'β': math.log2(0.9)}\n",
    "}\n",
    "\n",
    "\n",
    "def viterbi(observations, states, start_probability, transition_probability, emission_probability):\n",
    "    trellis = [{}]\n",
    "    path = {}\n",
    "\n",
    "    # Initialize the trellis and path for the first observation\n",
    "    for state in states:\n",
    "        trellis[0][state] = start_probability[state] + emission_probability[state][observations[0]]\n",
    "        path[state] = [state]\n",
    "\n",
    "    # Iterate over subsequent observations\n",
    "    for t in range(1, len(observations)):\n",
    "        trellis.append({})\n",
    "        new_path = {}\n",
    "\n",
    "        # Compute the maximum log-score and corresponding state for each current state\n",
    "        for state in states:\n",
    "            max_score, prev_state = max(\n",
    "                (trellis[t - 1][prev_state] + transition_probability[prev_state][state] + emission_probability[state][\n",
    "                    observations[t]], prev_state)\n",
    "                for prev_state in states\n",
    "            )\n",
    "\n",
    "            trellis[t][state] = max_score\n",
    "            new_path[state] = path[prev_state] + [state]\n",
    "\n",
    "        path = new_path\n",
    "\n",
    "    # Find the final state with the highest log-score\n",
    "    max_score, final_state = max((trellis[-1][state], state) for state in states)\n",
    "\n",
    "    return trellis, max_score, path[final_state]\n",
    "\n",
    "\n",
    "trellis, max_score, best_path = viterbi(observations, states, start_probability, transition_probability, emission_probability)\n",
    "\n",
    "# Print Viterbi table\n",
    "print(\"Viterbi Table:\")\n",
    "for t in range(len(observations)):\n",
    "    print(f\"Step {t+1}: {trellis[t]}\")\n",
    "\n",
    "# Print maximum score\n",
    "print(f\"\\nMax Score: {max_score}\")\n",
    "\n",
    "# Print best path\n",
    "print(f\"Best Path: {' -> '.join(best_path)}\")"
   ],
   "metadata": {
    "collapsed": false,
    "ExecuteTime": {
     "end_time": "2023-06-10T09:23:46.104839200Z",
     "start_time": "2023-06-10T09:23:46.059843100Z"
    }
   }
  }
 ],
 "metadata": {
  "kernelspec": {
   "display_name": "Python 3",
   "language": "python",
   "name": "python3"
  },
  "language_info": {
   "codemirror_mode": {
    "name": "ipython",
    "version": 2
   },
   "file_extension": ".py",
   "mimetype": "text/x-python",
   "name": "python",
   "nbconvert_exporter": "python",
   "pygments_lexer": "ipython2",
   "version": "2.7.6"
  }
 },
 "nbformat": 4,
 "nbformat_minor": 0
}
